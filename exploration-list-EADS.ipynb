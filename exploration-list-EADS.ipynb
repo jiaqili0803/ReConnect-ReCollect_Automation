{
 "cells": [
  {
   "attachments": {},
   "cell_type": "markdown",
   "metadata": {},
   "source": [
    "# Inventory the EADs\n",
    "\n",
    "This notebook can be modified to create a list of the EAD files you are working with. \n",
    "Things that you will need include:\n",
    "\n",
    "* Ability to make modifications of python code, specifically to add in the correct file path references. \n",
    "* Work with python dictionaries and modify the CSV writer function if you want to add information to the inventory. \n",
    "\n",
    "## Setup\n",
    "\n",
    "To get started, import the `os` module (for working with files and filepaths), \n",
    "the `re` module (for using regular expressions to parse the filenames), \n",
    "the `csv` module (to aid in writing CSV files)."
   ]
  },
  {
   "cell_type": "code",
   "execution_count": 2,
   "metadata": {},
   "outputs": [],
   "source": [
    "import os\n",
    "import re\n",
    "import csv"
   ]
  },
  {
   "attachments": {},
   "cell_type": "markdown",
   "metadata": {},
   "source": [
    "## Plan \n",
    "\n",
    "1. First, look through the files to count and list out the XMLs. \n",
    "3. Write out to csv\n",
    "\n",
    "Let's get started:\n",
    "\n",
    "### Go through files and inventory each EAD document"
   ]
  },
  {
   "cell_type": "code",
   "execution_count": 3,
   "metadata": {},
   "outputs": [],
   "source": [
    "xml_directory = os.path.join(os.getcwd(),'xml-files')\n",
    "\n",
    "bentley_dir = 'Bentley Finding Aids - XML'\n",
    "clements_dir = 'Clements Library - XML'\n",
    "scrc_dir = 'SCRC Finding Aids - XML'\n",
    "\n",
    "bentley_FAs = os.path.join(xml_directory, bentley_dir, 'Finding Aids')\n",
    "clements_FAs = os.path.join(xml_directory, clements_dir)\n",
    "scrc_FAs = os.path.join(xml_directory, scrc_dir)"
   ]
  },
  {
   "cell_type": "code",
   "execution_count": 4,
   "metadata": {},
   "outputs": [
    {
     "data": {
      "text/plain": [
       "'/Users/jajohnst/Documents/rcrc-ead-project/ReConnect-ReCollect_Automation/xml-files'"
      ]
     },
     "execution_count": 4,
     "metadata": {},
     "output_type": "execute_result"
    }
   ],
   "source": [
    "xml_directory"
   ]
  },
  {
   "cell_type": "code",
   "execution_count": 5,
   "metadata": {},
   "outputs": [
    {
     "name": "stdout",
     "output_type": "stream",
     "text": [
      "Inventoried 247 finding aids.\n"
     ]
    }
   ],
   "source": [
    "# walk the directories\n",
    "dirpaths = [bentley_FAs, clements_FAs, scrc_FAs]\n",
    "\n",
    "xml_count = 0\n",
    "ead_list = []\n",
    "\n",
    "for dirpath in dirpaths:\n",
    "    for root, dirnames, files in os.walk(dirpath):\n",
    "        for file in files:\n",
    "            if file.endswith('.xml'):\n",
    "                file_info = {}\n",
    "                file_info['index'] = xml_count\n",
    "                if re.search('Bentley', root):\n",
    "                    file_info['repository'] = 'Bentley Historical Library (umich-bhl)'\n",
    "                    file_info['folder'] = bentley_dir\n",
    "                if re.search('SCRC', root):\n",
    "                    file_info['repository'] = 'Special Collections (umich-scl)'\n",
    "                    file_info['folder'] = scrc_dir\n",
    "                if re.search('Clements', root):\n",
    "                    file_info['repository'] = 'Clements Library (umich-wcl)'\n",
    "                    file_info['folder'] = clements_dir\n",
    "                # each repository followed different naming conventions, so this isn't always ead_id\n",
    "#                file_info['ead_id'] = file.split('.')[0]\n",
    "                file_info['filename'] = file\n",
    "#                file_info['path'] = root + file\n",
    "                ead_list.append(file_info)\n",
    "                xml_count += 1\n",
    "print('Inventoried',len(ead_list),'finding aids.')\n",
    "    "
   ]
  },
  {
   "attachments": {},
   "cell_type": "markdown",
   "metadata": {},
   "source": [
    "### Write the inventory to a CSV\n",
    "\n",
    "Now, write a CSV file that presents an inventory of the finding aids inventoried above. "
   ]
  },
  {
   "cell_type": "code",
   "execution_count": 6,
   "metadata": {},
   "outputs": [
    {
     "name": "stdout",
     "output_type": "stream",
     "text": [
      "wrote rcrc_xml_manifest.csv\n"
     ]
    }
   ],
   "source": [
    "xml_manifest = 'rcrc_xml_manifest.csv'\n",
    "headers = ['index','repository','folder','filename']\n",
    "\n",
    "with open(xml_manifest, 'w', encoding='utf-8') as f:\n",
    "    manifest = csv.DictWriter(f, fieldnames=headers)\n",
    "    manifest.writeheader()\n",
    "    for ead in ead_list:\n",
    "        manifest.writerow(ead)\n",
    "    print('wrote',xml_manifest)"
   ]
  },
  {
   "attachments": {},
   "cell_type": "markdown",
   "metadata": {},
   "source": [
    "Now, the file should be accessible under the name you selected above. \n",
    "If you didn't make any modifications, that name is `rcrc_xml_manifest.csv` \n",
    "and should be visible in the folder where you are running this notebook. "
   ]
  }
 ],
 "metadata": {
  "kernelspec": {
   "display_name": "base",
   "language": "python",
   "name": "python3"
  },
  "language_info": {
   "codemirror_mode": {
    "name": "ipython",
    "version": 3
   },
   "file_extension": ".py",
   "mimetype": "text/x-python",
   "name": "python",
   "nbconvert_exporter": "python",
   "pygments_lexer": "ipython3",
   "version": "3.9.12"
  },
  "orig_nbformat": 4
 },
 "nbformat": 4,
 "nbformat_minor": 2
}
