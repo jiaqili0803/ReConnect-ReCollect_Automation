{
 "cells": [
  {
   "attachments": {},
   "cell_type": "markdown",
   "metadata": {},
   "source": [
    "# EAD Data Exploration and Analysis for Reparative Description\n",
    "\n",
    "This notebook is a starting place for the data exploration and analysis using the XML dataset developed for the [ReConnect/ReCollect project](https://www.reconnect-recollect.com/) at the University of Michigan. \n",
    "\n",
    "TODO: Insert more background about the project, and what the data includes."
   ]
  },
  {
   "attachments": {},
   "cell_type": "markdown",
   "metadata": {},
   "source": [
    "## Overview of the data\n",
    "\n",
    "The data includes a set of 247 finding aid documents, which were created by librarians and archivists at the University of Michigan. These finding aids are all encoded in an XML standard known as Encoded Arhival Description or EAD. This is the standard way of encoding finding aids for display and exchange between digital systems, and it is endorsed by the Society of American Archivists. While the current version of this format is EAD 3, all of the documents we analyzed were encoded in the previous version of EAD, known as EAD 2002. All versions of EAD are published and maintained by the Library of Congress at https://loc.gov/ead/. Data that is entered into EAD is typically created according to _Describing Archives: A Content Standard_, which is a set of rules and recommendations that define what sort of information and level of description should be adhered to when creating archival finding aids.  \n",
    "\n",
    "While all of these finding aids that we analyzed were created by the University of Michigan, and encoded according to EAD and DACS standards, there was notable variation between them. Our purpose here is not to investigate the circumstances of each description's creation, but it is necessary to note this variation because it required certain processes and additional functions to analyze and understand the data. The main difference between the documents is that about two thirds were XML documents defined by DTDs or Document Type Descriptions. This approach to defining an XML document specifies the allowed tags and values within the document and while shared specified the structure within each individual document created according to this approach. The remaining third of documents were generated with reference to a schema, in this case an XSD or XML Schema Document, which describes the EAD standard and allows for ready inclusion of various XML datatypes and additional schemas to be described. While the schema approach is more widely used, it is somewhat less controlled in the sense that it describes the document rather than defining allowed elements, and it also allows for a certain openness and combination with other schema. We expect that these structure differences were due to systems and document creation workflows that varied between the three repositories. While an investigation of the reasons are beyond our scope, it is worth noting that even within a single large institution, varied workflows, staff, and systems may lead to different data structures which, in this case, resulted in more complex analysis tasks.   \n",
    "\n",
    "MAYBE. The document variation was not only apparent in the document structures, but was also demonstrated in differing practices and conventions. Perhaps. Different amounts of LCSH for example, word lengths in various sections, levels of description?\n",
    "\n",
    "A list of the 247 finding aids is contained in `rcrc_xml_manifest.csv`. \n",
    "The process of developing a CSV manifest is demonstrated using Python \n",
    "in the accompanying notebook `exploration-list-EADS.ipynb`. "
   ]
  },
  {
   "cell_type": "code",
   "execution_count": 1,
   "metadata": {},
   "outputs": [],
   "source": [
    "# represent list in a pie chart? "
   ]
  }
 ],
 "metadata": {
  "kernelspec": {
   "display_name": "base",
   "language": "python",
   "name": "python3"
  },
  "language_info": {
   "codemirror_mode": {
    "name": "ipython",
    "version": 3
   },
   "file_extension": ".py",
   "mimetype": "text/x-python",
   "name": "python",
   "nbconvert_exporter": "python",
   "pygments_lexer": "ipython3",
   "version": "3.9.12"
  },
  "orig_nbformat": 4
 },
 "nbformat": 4,
 "nbformat_minor": 2
}
